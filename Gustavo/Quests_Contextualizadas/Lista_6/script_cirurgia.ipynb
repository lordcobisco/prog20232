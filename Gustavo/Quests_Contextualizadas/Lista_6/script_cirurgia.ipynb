{
  "nbformat": 4,
  "nbformat_minor": 0,
  "metadata": {
    "colab": {
      "provenance": [],
      "authorship_tag": "ABX9TyMWGrsPWwk4UrQcfnlcMpMv",
      "include_colab_link": true
    },
    "kernelspec": {
      "name": "python3",
      "display_name": "Python 3"
    },
    "language_info": {
      "name": "python"
    }
  },
  "cells": [
    {
      "cell_type": "markdown",
      "metadata": {
        "id": "view-in-github",
        "colab_type": "text"
      },
      "source": [
        "<a href=\"https://colab.research.google.com/github/Gus-1003/ISD_prog20232/blob/main/Gustavo/Quests_Contextualizadas/Lista_6/script_cirurgia.ipynb\" target=\"_parent\"><img src=\"https://colab.research.google.com/assets/colab-badge.svg\" alt=\"Open In Colab\"/></a>"
      ]
    },
    {
      "cell_type": "markdown",
      "source": [
        "# Cirurgia esterotáxica"
      ],
      "metadata": {
        "id": "SVQOXB1Io1oA"
      }
    },
    {
      "cell_type": "markdown",
      "source": [
        "Procedimento Cirurgico:"
      ],
      "metadata": {
        "id": "PnNG_3pzpEWs"
      }
    },
    {
      "cell_type": "markdown",
      "source": [
        "Procedimento de anestesia: Pode-se utilizar uma diversidade de fármacos para anestesia os animais, dentre eles Ketamina e xilazina utilizados em conjunto, halotano (gasoso). Verificar a dosagem correta de acordo com o peso dos animais."
      ],
      "metadata": {
        "id": "VW8TzHR9o7Cs"
      }
    },
    {
      "cell_type": "markdown",
      "source": [
        "PARÂMETROS RATOS\n",
        "\n",
        "Massa corporal (g)\n",
        "300-520\n",
        "\n",
        "Temperatura Corporal (°C)\n",
        "35,9-37,5\n",
        "\n",
        "Frequência Respiratória\n",
        "(mov.min)\n",
        "70-115\n",
        "\n",
        "Frequência Cardíaca\n",
        "(bat.min-1)\n",
        "250-450\n"
      ],
      "metadata": {
        "id": "kG7W2F4BvVjH"
      }
    },
    {
      "cell_type": "code",
      "source": [
        "peso_animal =\n",
        "concentracao_anestesico=\n",
        "dosagem_anestesico ="
      ],
      "metadata": {
        "id": "IGlpGfSbo6PN"
      },
      "execution_count": null,
      "outputs": []
    },
    {
      "cell_type": "markdown",
      "source": [
        "Depois do anestésico ter feito efeito, deve-se posicionar o animal no estereotáxico. As barras que suportam o peso do animal devem ser posicionadas no ouvido externo do animal. Normalmente o animal dá uma pequena piscada, devido ao estímulo da musculatura responsável por este movimento. Em seguida verificar a angulação da cabeça do animal, a qual deve estar sem diferenças de angulação entre o bregma e o lambda, para ter uma superfície de cirurgia plana.\n"
      ],
      "metadata": {
        "id": "dlSTzQE0pRoM"
      }
    },
    {
      "cell_type": "code",
      "source": [
        ""
      ],
      "metadata": {
        "id": "FhEBf2c3g84E"
      },
      "execution_count": null,
      "outputs": []
    },
    {
      "cell_type": "markdown",
      "source": [
        "Limpeza do campo de trabalho: Este procedimento requer o cumprimento de algumas etapas: Retirada da pelagem que recobre a parte superior da calota craniana, Retirada dos tecidos moles (epiderme, derme e tecido conjuntivo) até alcançar a parte óssea da caixa craniana. Por último e não menos importante deve-se limpar a calota craniana de qualquer resto de “pele” que esteja sobrando utilizando H2O2 10 volumes."
      ],
      "metadata": {
        "id": "2t3FF_i8pTMN"
      }
    },
    {
      "cell_type": "markdown",
      "source": [
        "Com o animal em posição e com o campo cirúrgico devidamente limpo, utiliza-se uma pequena camada de poliacrilato em todo o perímetro externo para evitar sangramentos.\n"
      ],
      "metadata": {
        "id": "GlV90o1TpWCm"
      }
    },
    {
      "cell_type": "markdown",
      "source": [
        "Após este procedimento deve-se escolher um ponto para a fixação de parafusos, de preferência na parte posterior da calota craniana, pois a camada óssea é mais espessa e suporta uma maior profundidade do parafuso.\n"
      ],
      "metadata": {
        "id": "13KDfP-8pXzj"
      }
    },
    {
      "cell_type": "markdown",
      "source": [
        "Obs: Cuidar para não aprofundar muito o parafuso. Com parafusos maiores deve-se dar até 3 voltas no parafuso.\n",
        "Posicionar a agulha (devidamente preparada para o tamanho da cânula e que servirá de suporte para a fixação das cânulas) sobre o bregma (ver figura acima). Fazer os cálculos de posicionamento AnteroPosterior (AP), LateroLateral (LL) e DorsoVentral (DV). Os valores utilizados para os cálculos são os valores encontrados nas réguas a partir do posicionamento da agulha.\n",
        "E. G.: Hipocampo (CA1): Valores hipotéticos para fins de cálculo.\n",
        "AP: 6,42 cm\n",
        "LL: 3,23 cm\n",
        "DV: 4,2 cm\n",
        "Isso significa que estes foram os valores encontrados em cada régua do estereotáxico e se subtrai ou soma a estes, os valores de cada estrutura ou núcleo. CA1: AP - 0,42 cm LL +/- 0,30 cm DV - 0,20 cm.\n",
        "AP: 6,42 cm – 0,42 = 6,00\n",
        "LL: 3,33 cm + 0,30 = 3,63 / - 0,30 = 3,03  (BILATERAL)\n",
        "DV: 4,20 cm – 0,20 = 4,00\n"
      ],
      "metadata": {
        "id": "S9bc1OtkpYQE"
      }
    },
    {
      "cell_type": "markdown",
      "source": [
        "Após estes cálculos feitos é hora de localizar os pontos de inserção das cânulas-guia. Assim que estes pontos forem localizados é necessário fazer furos para a introdução das cânulas-guia. A localização destes pontos deve ser definida pelos valores encontrados nos cálculos AnteroPosterior (6,00) e LateroLateral (3,63 e 3,03). Deve-se escolher qual dos hemisférios vai ser colocada a primeira cânula, daí os dois valores para as medidas LL.\n"
      ],
      "metadata": {
        "id": "9LxeAP_FpawM"
      }
    },
    {
      "cell_type": "code",
      "source": [],
      "metadata": {
        "id": "e_JNJtjNpeQk"
      },
      "execution_count": null,
      "outputs": []
    },
    {
      "cell_type": "markdown",
      "source": [
        "Depois de posicionar a agulha, fazer um furo com a broca até alcançar as meninges. A não perfuração das meninges é o procedimento ideal, e para conseguir isso apoie a mão que segura a broca contra o assoalho ou ao estereotáxico e perfure o crânio a +- 450 de angulação."
      ],
      "metadata": {
        "id": "uG6RQ9_epcKk"
      }
    },
    {
      "cell_type": "markdown",
      "source": [
        "Após ter atingido este objetivo, introduza a cânula-guia previamente confeccionada até o valor DorsoVentral (4,00) que foi calculado anteriormente.\n"
      ],
      "metadata": {
        "id": "2JKl5lespeGE"
      }
    },
    {
      "cell_type": "markdown",
      "source": [
        "Logo após drenar qualquer sangue ou líquido cefalorraquidiano que esteja saindo pelo orifício criado no crânio. Para isso utilize pequenos rolos de papel absorvente."
      ],
      "metadata": {
        "id": "8ewD0hYOpfUs"
      }
    },
    {
      "cell_type": "markdown",
      "source": [
        "Faça uma mistura do acrílico polimerizante com o solvente até ficar com textura espessa porém maleável (o ideal é que a mistura seja capaz de cobrir a parte desejada sem escorrer por todo o crânio). Com essa mistura faça um capacete abrangendo o crânio, a cânula-guia e o parafuso. Deixe secar até ficar suficientemente rígido. O tempo de secagem varia de acordo com a temperatura e umidade da sala.\n"
      ],
      "metadata": {
        "id": "HZec6no3phCt"
      }
    },
    {
      "cell_type": "markdown",
      "source": [
        "O próximo passo é a fixação da outra cânula-guia. Deve-se levantar levemente o braço do estereotáxico cuidando para que a cânula-guia previamente fixada não se movimente. Logo após, posicionar a agulha sobre o outro ponto de inserção da cânula-guia. Introduzir a cânula-guia até o valor DV (4,00) calculado previamente.\n"
      ],
      "metadata": {
        "id": "fpo40EIopiWE"
      }
    },
    {
      "cell_type": "markdown",
      "source": [
        "Seguir novamente a descrição do item 9 e após fixar a cânula conforme item 10. De preferência espalhar o cimento sobre a maior área do crânio, sempre deixando um espaço entre o capacete e o início da área tecidual. Este cuidado previne de um futuro descolamento do capacete devido a entrada de sangue u outro líquido entre o capacete e o crânio.\n"
      ],
      "metadata": {
        "id": "xFg6nKUypjd8"
      }
    },
    {
      "cell_type": "markdown",
      "source": [
        "Levantar bem devagar seguindo as instruções do item contida no item 11. Acomodar o animal em uma caixa aquecida por uma lâmpada e sem outros animais acordados. Assim que o animal despertar colocá-lo de volta a sua caixa-moradia.\n"
      ],
      "metadata": {
        "id": "ciFGpCe0pk8c"
      }
    }
  ]
}