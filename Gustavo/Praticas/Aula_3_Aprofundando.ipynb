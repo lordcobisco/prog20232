{
  "nbformat": 4,
  "nbformat_minor": 0,
  "metadata": {
    "colab": {
      "provenance": [],
      "toc_visible": true,
      "authorship_tag": "ABX9TyPvvJsHePEWLbLtGSaCZ0Ba",
      "include_colab_link": true
    },
    "kernelspec": {
      "name": "python3",
      "display_name": "Python 3"
    },
    "language_info": {
      "name": "python"
    }
  },
  "cells": [
    {
      "cell_type": "markdown",
      "metadata": {
        "id": "view-in-github",
        "colab_type": "text"
      },
      "source": [
        "<a href=\"https://colab.research.google.com/github/Gus-1003/ISD_prog20232/blob/main/Gustavo/Praticas/Aula_3_Aprofundando.ipynb\" target=\"_parent\"><img src=\"https://colab.research.google.com/assets/colab-badge.svg\" alt=\"Open In Colab\"/></a>"
      ]
    },
    {
      "cell_type": "markdown",
      "source": [
        "# Introdução a linguagem Python:"
      ],
      "metadata": {
        "id": "w2DobeMmdNpC"
      }
    },
    {
      "cell_type": "markdown",
      "source": [
        "Turma: PES 2023.2\n",
        "*   Professor: Andre Dantas\n",
        "*   Aluno: Gustavo Maciel"
      ],
      "metadata": {
        "id": "Hp63ZakEcobz"
      }
    },
    {
      "cell_type": "code",
      "execution_count": null,
      "metadata": {
        "id": "8gECydYbk5yx"
      },
      "outputs": [],
      "source": [
        "'''\n",
        "Esse código pertence as práticas de exercícios da aula 3 da disciplina de Programção e Engenharia de Software.\n",
        "\n",
        "A aula 3 foi focada na tematica \"Intridução a linguagem Python\"\n",
        "'''"
      ]
    },
    {
      "cell_type": "markdown",
      "source": [
        "## Tipos de Dados:"
      ],
      "metadata": {
        "id": "-40R-TE2dFR3"
      }
    },
    {
      "cell_type": "code",
      "source": [
        "varString = \"Gustavo\"\n",
        "varInteiro = 5\n",
        "varReal = 5.5\n",
        "varBool = True # ou False / 0 / 1"
      ],
      "metadata": {
        "id": "GjVKZQ6qdCRv"
      },
      "execution_count": 1,
      "outputs": []
    },
    {
      "cell_type": "code",
      "source": [
        "print(varString) # Visualizar o conteudo da váriavel"
      ],
      "metadata": {
        "colab": {
          "base_uri": "https://localhost:8080/"
        },
        "id": "b8ySE2VOducC",
        "outputId": "355aeacd-8b07-412b-a147-453c574e0020"
      },
      "execution_count": 2,
      "outputs": [
        {
          "output_type": "stream",
          "name": "stdout",
          "text": [
            "Gustavo\n"
          ]
        }
      ]
    },
    {
      "cell_type": "code",
      "source": [
        "print(type(varString)) # Visualizar o tipo da váriavel"
      ],
      "metadata": {
        "colab": {
          "base_uri": "https://localhost:8080/"
        },
        "id": "3lbIvu3od39k",
        "outputId": "5a6189e8-197e-4107-b6c7-9ab0ceed3625"
      },
      "execution_count": 5,
      "outputs": [
        {
          "output_type": "stream",
          "name": "stdout",
          "text": [
            "<class 'str'>\n"
          ]
        }
      ]
    },
    {
      "cell_type": "markdown",
      "source": [
        "## Importando Modulos / Pacotes"
      ],
      "metadata": {
        "id": "RMIrxIyMeLr_"
      }
    },
    {
      "cell_type": "code",
      "source": [
        "import math # Este módulo fornece acesso às funções matemáticas definidas pelo padrão C.\n",
        "\n",
        "print(math.sqrt(25)) # Descobre a raiz do numero que é passado por parametro"
      ],
      "metadata": {
        "colab": {
          "base_uri": "https://localhost:8080/"
        },
        "id": "-Kuw3743d_UM",
        "outputId": "78e0bf2a-a395-478b-d390-0ba161621e76"
      },
      "execution_count": 7,
      "outputs": [
        {
          "output_type": "stream",
          "name": "stdout",
          "text": [
            "5.0\n"
          ]
        }
      ]
    },
    {
      "cell_type": "code",
      "source": [
        "from math import sqrt # Importar somente uma função especifica daquela modulo\n",
        "\n",
        "print(sqrt(25))"
      ],
      "metadata": {
        "colab": {
          "base_uri": "https://localhost:8080/"
        },
        "id": "S2SURz-Zexa6",
        "outputId": "03e583a5-ff7f-43c1-ba58-5595d7934e33"
      },
      "execution_count": 6,
      "outputs": [
        {
          "output_type": "stream",
          "name": "stdout",
          "text": [
            "5.0\n"
          ]
        }
      ]
    },
    {
      "cell_type": "markdown",
      "source": [
        "## Operadores"
      ],
      "metadata": {
        "id": "lOjx_7hHfqTv"
      }
    },
    {
      "cell_type": "markdown",
      "source": [
        "### Aritemeticos"
      ],
      "metadata": {
        "id": "PBbhNt6whOQo"
      }
    },
    {
      "cell_type": "code",
      "source": [
        "print(5+5) # soma\n",
        "print(5-5) # subtração\n",
        "print(5/5) # divisão\n",
        "print(5//5) # Parte inteira da divisão / Quociente\n",
        "print(5%5) # resto\n",
        "print(5*5) # multiplicação\n",
        "print(5**5) # potencia"
      ],
      "metadata": {
        "colab": {
          "base_uri": "https://localhost:8080/"
        },
        "id": "Jmg-xNu4fw3W",
        "outputId": "c790b760-65a6-43fe-efd2-8176f657aaed"
      },
      "execution_count": 12,
      "outputs": [
        {
          "output_type": "stream",
          "name": "stdout",
          "text": [
            "10\n",
            "0\n",
            "1.0\n",
            "1\n",
            "0\n",
            "25\n",
            "3125\n"
          ]
        }
      ]
    },
    {
      "cell_type": "code",
      "source": [
        "soma = 5 + 5\n",
        "print(soma)"
      ],
      "metadata": {
        "colab": {
          "base_uri": "https://localhost:8080/"
        },
        "id": "LeDyUyt8gsfH",
        "outputId": "7232bdc3-cd54-4597-d568-213f21835be5"
      },
      "execution_count": 9,
      "outputs": [
        {
          "output_type": "stream",
          "name": "stdout",
          "text": [
            "10\n"
          ]
        }
      ]
    },
    {
      "cell_type": "markdown",
      "source": [
        "### Compostos:"
      ],
      "metadata": {
        "id": "aakD_vBEhcnv"
      }
    },
    {
      "cell_type": "code",
      "source": [
        "maisIgual, menosIgual, vezesIgual, divididoIgual, moduloIgual = 9, 9, 9, 9, 9\n",
        "\n",
        "maisIgual += 1\n",
        "menosIgual -= 1\n",
        "vezesIgual *= 1\n",
        "divididoIgual /= 3\n",
        "moduloIgual %= 2\n",
        "\n",
        "print(\"maisIgual:\", maisIgual)\n",
        "print(\"menosIgual:\", menosIgual)\n",
        "print(\"vezesIgual:\", vezesIgual)\n",
        "print(\"divididoIgual:\", divididoIgual)\n",
        "print(\"moduloIgual:\", moduloIgual)"
      ],
      "metadata": {
        "colab": {
          "base_uri": "https://localhost:8080/"
        },
        "id": "m1cnGRWZgx1T",
        "outputId": "b8723184-0936-4977-feae-d68b8f927c42"
      },
      "execution_count": 20,
      "outputs": [
        {
          "output_type": "stream",
          "name": "stdout",
          "text": [
            "maisIgual: 10\n",
            "menosIgual: 8\n",
            "vezesIgual: 9\n",
            "divididoIgual: 3.0\n",
            "moduloIgual: 1\n"
          ]
        }
      ]
    },
    {
      "cell_type": "code",
      "source": [
        "a, b, c = 3, 5, 7\n",
        "\n",
        "(d, e) = (11, 13)\n",
        "\n",
        "print(d)"
      ],
      "metadata": {
        "colab": {
          "base_uri": "https://localhost:8080/"
        },
        "id": "ezvUO6O8jG1I",
        "outputId": "7dcb470f-4f5b-4546-d54d-9da0955d64ac"
      },
      "execution_count": 22,
      "outputs": [
        {
          "output_type": "stream",
          "name": "stdout",
          "text": [
            "11\n"
          ]
        }
      ]
    },
    {
      "cell_type": "markdown",
      "source": [
        "### Booleano:"
      ],
      "metadata": {
        "id": "woXW2FCmnxeF"
      }
    },
    {
      "cell_type": "code",
      "source": [
        "print(varBool)\n",
        "print(\"O valor logico da negação da váriavel varBoll é:\", not varBool)"
      ],
      "metadata": {
        "colab": {
          "base_uri": "https://localhost:8080/"
        },
        "id": "V92kDtlAnp_f",
        "outputId": "0c4eea48-2c08-4107-96cd-a7a585ff172d"
      },
      "execution_count": 25,
      "outputs": [
        {
          "output_type": "stream",
          "name": "stdout",
          "text": [
            "True\n",
            "O valor logico da negação da váriavel varBoll é: False\n"
          ]
        }
      ]
    },
    {
      "cell_type": "code",
      "source": [
        "logico1 = True\n",
        "logico2 = False\n",
        "\n",
        "print(logico1 and logico1)\n",
        "print(logico1 and logico2)\n",
        "print(logico2 and logico1)\n",
        "print(logico2 and logico2)\n",
        "print(\"=====================\")\n",
        "print(logico1 or logico1)\n",
        "print(logico1 or logico2)\n",
        "print(logico2 or logico1)\n",
        "print(logico2 or logico2)"
      ],
      "metadata": {
        "colab": {
          "base_uri": "https://localhost:8080/"
        },
        "id": "A2JIWPAEoVvJ",
        "outputId": "9ba75666-ac94-423d-cf29-001519a5725e"
      },
      "execution_count": 27,
      "outputs": [
        {
          "output_type": "stream",
          "name": "stdout",
          "text": [
            "True\n",
            "False\n",
            "False\n",
            "False\n",
            "=====================\n",
            "True\n",
            "True\n",
            "True\n",
            "False\n"
          ]
        }
      ]
    },
    {
      "cell_type": "markdown",
      "source": [
        "### Equivalência"
      ],
      "metadata": {
        "id": "2ebuwjTXpIiu"
      }
    },
    {
      "cell_type": "code",
      "source": [
        "print(10 == 10)\n",
        "print(10 == 3)\n",
        "print(\"=====================\")\n",
        "print(10 != 10)\n",
        "print(10 != 3)\n",
        "print(\"=====================\")\n",
        "print(10 > 9)\n",
        "print(10 < 3)\n",
        "print(\"=====================\")\n",
        "print(10 >= 10)\n",
        "print(10 <= 10)"
      ],
      "metadata": {
        "colab": {
          "base_uri": "https://localhost:8080/"
        },
        "id": "5hDo9kQwpO0v",
        "outputId": "c1a2ba9e-f378-424c-e524-1202a141d811"
      },
      "execution_count": 28,
      "outputs": [
        {
          "output_type": "stream",
          "name": "stdout",
          "text": [
            "True\n",
            "False\n",
            "=====================\n",
            "False\n",
            "True\n",
            "=====================\n",
            "True\n",
            "False\n",
            "=====================\n",
            "True\n",
            "True\n"
          ]
        }
      ]
    },
    {
      "cell_type": "markdown",
      "source": [
        "## Entrada de Dados:"
      ],
      "metadata": {
        "id": "tIFa496TqgUE"
      }
    },
    {
      "cell_type": "code",
      "source": [
        "num = input(\"Digite a sua senha:\")\n",
        "print(num)"
      ],
      "metadata": {
        "colab": {
          "base_uri": "https://localhost:8080/"
        },
        "id": "HfGA6xvFqkZ9",
        "outputId": "4a106c95-6206-4199-99e5-c9feaf7081b6"
      },
      "execution_count": 29,
      "outputs": [
        {
          "output_type": "stream",
          "name": "stdout",
          "text": [
            "Digite a sua senha:5\n",
            "5\n"
          ]
        }
      ]
    },
    {
      "cell_type": "code",
      "source": [
        "login = input(\"Digite o seu Nick:\")\n",
        "senha = input(\"Digite a sua senha:\")\n",
        "\n",
        "print(\"O login digitado foi: %s, e a senha digitada foi: %s\" %(login, senha))"
      ],
      "metadata": {
        "colab": {
          "base_uri": "https://localhost:8080/"
        },
        "id": "DMYWlhRGqvuV",
        "outputId": "df60b8f6-b47f-4545-fe3a-7d916b3bb72f"
      },
      "execution_count": 30,
      "outputs": [
        {
          "output_type": "stream",
          "name": "stdout",
          "text": [
            "Digite o seu Nick:gusta\n",
            "Digite a sua senha:abracadabra\n",
            "O login digitado foi: gusta, e a senha digitada foi: abracadabra\n"
          ]
        }
      ]
    }
  ]
}